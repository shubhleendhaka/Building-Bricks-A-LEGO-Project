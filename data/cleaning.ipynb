{
 "cells": [
  {
   "cell_type": "code",
   "execution_count": 8,
   "metadata": {},
   "outputs": [],
   "source": [
    "import pandas as pd"
   ]
  },
  {
   "cell_type": "code",
   "execution_count": 9,
   "metadata": {},
   "outputs": [
    {
     "data": {
      "text/plain": [
       "Index(['set_num', 'name', 'year', 'theme_id', 'num_parts', 'img_url'], dtype='object')"
      ]
     },
     "execution_count": 9,
     "metadata": {},
     "output_type": "execute_result"
    }
   ],
   "source": [
    "df1 = pd.read_csv(\"sets.csv\")\n",
    "df1.columns"
   ]
  },
  {
   "cell_type": "code",
   "execution_count": 10,
   "metadata": {},
   "outputs": [
    {
     "data": {
      "text/html": [
       "<div>\n",
       "<style scoped>\n",
       "    .dataframe tbody tr th:only-of-type {\n",
       "        vertical-align: middle;\n",
       "    }\n",
       "\n",
       "    .dataframe tbody tr th {\n",
       "        vertical-align: top;\n",
       "    }\n",
       "\n",
       "    .dataframe thead th {\n",
       "        text-align: right;\n",
       "    }\n",
       "</style>\n",
       "<table border=\"1\" class=\"dataframe\">\n",
       "  <thead>\n",
       "    <tr style=\"text-align: right;\">\n",
       "      <th></th>\n",
       "      <th>set_num</th>\n",
       "      <th>name</th>\n",
       "      <th>year</th>\n",
       "      <th>theme_id</th>\n",
       "      <th>num_parts</th>\n",
       "      <th>img_url</th>\n",
       "    </tr>\n",
       "  </thead>\n",
       "  <tbody>\n",
       "    <tr>\n",
       "      <th>0</th>\n",
       "      <td>001-1</td>\n",
       "      <td>Gears</td>\n",
       "      <td>1965</td>\n",
       "      <td>1</td>\n",
       "      <td>43</td>\n",
       "      <td>https://cdn.rebrickable.com/media/sets/001-1.jpg</td>\n",
       "    </tr>\n",
       "    <tr>\n",
       "      <th>1</th>\n",
       "      <td>0011-2</td>\n",
       "      <td>Town Mini-Figures</td>\n",
       "      <td>1979</td>\n",
       "      <td>67</td>\n",
       "      <td>12</td>\n",
       "      <td>https://cdn.rebrickable.com/media/sets/0011-2.jpg</td>\n",
       "    </tr>\n",
       "    <tr>\n",
       "      <th>2</th>\n",
       "      <td>0011-3</td>\n",
       "      <td>Castle 2 for 1 Bonus Offer</td>\n",
       "      <td>1987</td>\n",
       "      <td>199</td>\n",
       "      <td>0</td>\n",
       "      <td>https://cdn.rebrickable.com/media/sets/0011-3.jpg</td>\n",
       "    </tr>\n",
       "    <tr>\n",
       "      <th>3</th>\n",
       "      <td>0012-1</td>\n",
       "      <td>Space Mini-Figures</td>\n",
       "      <td>1979</td>\n",
       "      <td>143</td>\n",
       "      <td>12</td>\n",
       "      <td>https://cdn.rebrickable.com/media/sets/0012-1.jpg</td>\n",
       "    </tr>\n",
       "    <tr>\n",
       "      <th>4</th>\n",
       "      <td>0013-1</td>\n",
       "      <td>Space Mini-Figures</td>\n",
       "      <td>1979</td>\n",
       "      <td>143</td>\n",
       "      <td>12</td>\n",
       "      <td>https://cdn.rebrickable.com/media/sets/0013-1.jpg</td>\n",
       "    </tr>\n",
       "    <tr>\n",
       "      <th>...</th>\n",
       "      <td>...</td>\n",
       "      <td>...</td>\n",
       "      <td>...</td>\n",
       "      <td>...</td>\n",
       "      <td>...</td>\n",
       "      <td>...</td>\n",
       "    </tr>\n",
       "    <tr>\n",
       "      <th>21875</th>\n",
       "      <td>XWING-1</td>\n",
       "      <td>Mini X-Wing Fighter</td>\n",
       "      <td>2019</td>\n",
       "      <td>158</td>\n",
       "      <td>60</td>\n",
       "      <td>https://cdn.rebrickable.com/media/sets/xwing-1...</td>\n",
       "    </tr>\n",
       "    <tr>\n",
       "      <th>21876</th>\n",
       "      <td>XWING-2</td>\n",
       "      <td>X-Wing Trench Run</td>\n",
       "      <td>2019</td>\n",
       "      <td>158</td>\n",
       "      <td>52</td>\n",
       "      <td>https://cdn.rebrickable.com/media/sets/xwing-2...</td>\n",
       "    </tr>\n",
       "    <tr>\n",
       "      <th>21877</th>\n",
       "      <td>YODACHRON-1</td>\n",
       "      <td>Yoda Chronicles Promotional Set</td>\n",
       "      <td>2013</td>\n",
       "      <td>158</td>\n",
       "      <td>413</td>\n",
       "      <td>https://cdn.rebrickable.com/media/sets/yodachr...</td>\n",
       "    </tr>\n",
       "    <tr>\n",
       "      <th>21878</th>\n",
       "      <td>YTERRIER-1</td>\n",
       "      <td>Yorkshire Terrier</td>\n",
       "      <td>2018</td>\n",
       "      <td>598</td>\n",
       "      <td>0</td>\n",
       "      <td>https://cdn.rebrickable.com/media/sets/yterrie...</td>\n",
       "    </tr>\n",
       "    <tr>\n",
       "      <th>21879</th>\n",
       "      <td>ZX8000-1</td>\n",
       "      <td>ZX 8000 LEGO Sneaker</td>\n",
       "      <td>2020</td>\n",
       "      <td>501</td>\n",
       "      <td>0</td>\n",
       "      <td>https://cdn.rebrickable.com/media/sets/zx8000-...</td>\n",
       "    </tr>\n",
       "  </tbody>\n",
       "</table>\n",
       "<p>21880 rows × 6 columns</p>\n",
       "</div>"
      ],
      "text/plain": [
       "           set_num                             name  year  theme_id  \\\n",
       "0            001-1                            Gears  1965         1   \n",
       "1           0011-2                Town Mini-Figures  1979        67   \n",
       "2           0011-3       Castle 2 for 1 Bonus Offer  1987       199   \n",
       "3           0012-1               Space Mini-Figures  1979       143   \n",
       "4           0013-1               Space Mini-Figures  1979       143   \n",
       "...            ...                              ...   ...       ...   \n",
       "21875      XWING-1              Mini X-Wing Fighter  2019       158   \n",
       "21876      XWING-2                X-Wing Trench Run  2019       158   \n",
       "21877  YODACHRON-1  Yoda Chronicles Promotional Set  2013       158   \n",
       "21878   YTERRIER-1                Yorkshire Terrier  2018       598   \n",
       "21879     ZX8000-1             ZX 8000 LEGO Sneaker  2020       501   \n",
       "\n",
       "       num_parts                                            img_url  \n",
       "0             43   https://cdn.rebrickable.com/media/sets/001-1.jpg  \n",
       "1             12  https://cdn.rebrickable.com/media/sets/0011-2.jpg  \n",
       "2              0  https://cdn.rebrickable.com/media/sets/0011-3.jpg  \n",
       "3             12  https://cdn.rebrickable.com/media/sets/0012-1.jpg  \n",
       "4             12  https://cdn.rebrickable.com/media/sets/0013-1.jpg  \n",
       "...          ...                                                ...  \n",
       "21875         60  https://cdn.rebrickable.com/media/sets/xwing-1...  \n",
       "21876         52  https://cdn.rebrickable.com/media/sets/xwing-2...  \n",
       "21877        413  https://cdn.rebrickable.com/media/sets/yodachr...  \n",
       "21878          0  https://cdn.rebrickable.com/media/sets/yterrie...  \n",
       "21879          0  https://cdn.rebrickable.com/media/sets/zx8000-...  \n",
       "\n",
       "[21880 rows x 6 columns]"
      ]
     },
     "execution_count": 10,
     "metadata": {},
     "output_type": "execute_result"
    }
   ],
   "source": [
    "df1"
   ]
  },
  {
   "cell_type": "code",
   "execution_count": 11,
   "metadata": {},
   "outputs": [
    {
     "name": "stdout",
     "output_type": "stream",
     "text": [
      "\n",
      "Cardinality of each column:\n",
      "set_num      21880\n",
      "name         18752\n",
      "year            74\n",
      "theme_id       460\n",
      "num_parts     1443\n",
      "img_url      21880\n",
      "dtype: int64\n"
     ]
    }
   ],
   "source": [
    "# Calculating Cardinality\n",
    "cardinality = df1.nunique()\n",
    "print(\"\\nCardinality of each column:\")\n",
    "print(cardinality)"
   ]
  },
  {
   "cell_type": "code",
   "execution_count": 12,
   "metadata": {},
   "outputs": [
    {
     "name": "stdout",
     "output_type": "stream",
     "text": [
      "\n",
      "Range of numeric columns:\n",
      "year            75\n",
      "theme_id       751\n",
      "num_parts    11695\n",
      "dtype: int64\n"
     ]
    }
   ],
   "source": [
    "import numpy as np\n",
    "# Calculating Range for numeric columns\n",
    "range_values = df1.select_dtypes(include=[np.number]).apply(lambda x: x.max() - x.min())\n",
    "print(\"\\nRange of numeric columns:\")\n",
    "print(range_values)"
   ]
  },
  {
   "cell_type": "code",
   "execution_count": 13,
   "metadata": {},
   "outputs": [
    {
     "name": "stdout",
     "output_type": "stream",
     "text": [
      "\n",
      "Minimum values of numeric columns:\n",
      "year         1949\n",
      "theme_id        1\n",
      "num_parts       0\n",
      "dtype: int64\n",
      "\n",
      "Maximum values of numeric columns:\n",
      "year          2024\n",
      "theme_id       752\n",
      "num_parts    11695\n",
      "dtype: int64\n"
     ]
    }
   ],
   "source": [
    "# Finding Min and Max for numeric columns\n",
    "min_values = df1.select_dtypes(include=[np.number]).min()\n",
    "max_values = df1.select_dtypes(include=[np.number]).max()\n",
    "\n",
    "print(\"\\nMinimum values of numeric columns:\")\n",
    "print(min_values)\n",
    "\n",
    "print(\"\\nMaximum values of numeric columns:\")\n",
    "print(max_values)"
   ]
  },
  {
   "cell_type": "code",
   "execution_count": 14,
   "metadata": {},
   "outputs": [
    {
     "data": {
      "text/html": [
       "<div>\n",
       "<style scoped>\n",
       "    .dataframe tbody tr th:only-of-type {\n",
       "        vertical-align: middle;\n",
       "    }\n",
       "\n",
       "    .dataframe tbody tr th {\n",
       "        vertical-align: top;\n",
       "    }\n",
       "\n",
       "    .dataframe thead th {\n",
       "        text-align: right;\n",
       "    }\n",
       "</style>\n",
       "<table border=\"1\" class=\"dataframe\">\n",
       "  <thead>\n",
       "    <tr style=\"text-align: right;\">\n",
       "      <th></th>\n",
       "      <th>set_num</th>\n",
       "      <th>name</th>\n",
       "      <th>year</th>\n",
       "      <th>num_parts</th>\n",
       "    </tr>\n",
       "  </thead>\n",
       "  <tbody>\n",
       "    <tr>\n",
       "      <th>0</th>\n",
       "      <td>001-1</td>\n",
       "      <td>Gears</td>\n",
       "      <td>1965</td>\n",
       "      <td>43</td>\n",
       "    </tr>\n",
       "    <tr>\n",
       "      <th>1</th>\n",
       "      <td>0011-2</td>\n",
       "      <td>Town Mini-Figures</td>\n",
       "      <td>1979</td>\n",
       "      <td>12</td>\n",
       "    </tr>\n",
       "    <tr>\n",
       "      <th>2</th>\n",
       "      <td>0011-3</td>\n",
       "      <td>Castle 2 for 1 Bonus Offer</td>\n",
       "      <td>1987</td>\n",
       "      <td>0</td>\n",
       "    </tr>\n",
       "    <tr>\n",
       "      <th>3</th>\n",
       "      <td>0012-1</td>\n",
       "      <td>Space Mini-Figures</td>\n",
       "      <td>1979</td>\n",
       "      <td>12</td>\n",
       "    </tr>\n",
       "    <tr>\n",
       "      <th>4</th>\n",
       "      <td>0013-1</td>\n",
       "      <td>Space Mini-Figures</td>\n",
       "      <td>1979</td>\n",
       "      <td>12</td>\n",
       "    </tr>\n",
       "    <tr>\n",
       "      <th>...</th>\n",
       "      <td>...</td>\n",
       "      <td>...</td>\n",
       "      <td>...</td>\n",
       "      <td>...</td>\n",
       "    </tr>\n",
       "    <tr>\n",
       "      <th>21875</th>\n",
       "      <td>XWING-1</td>\n",
       "      <td>Mini X-Wing Fighter</td>\n",
       "      <td>2019</td>\n",
       "      <td>60</td>\n",
       "    </tr>\n",
       "    <tr>\n",
       "      <th>21876</th>\n",
       "      <td>XWING-2</td>\n",
       "      <td>X-Wing Trench Run</td>\n",
       "      <td>2019</td>\n",
       "      <td>52</td>\n",
       "    </tr>\n",
       "    <tr>\n",
       "      <th>21877</th>\n",
       "      <td>YODACHRON-1</td>\n",
       "      <td>Yoda Chronicles Promotional Set</td>\n",
       "      <td>2013</td>\n",
       "      <td>413</td>\n",
       "    </tr>\n",
       "    <tr>\n",
       "      <th>21878</th>\n",
       "      <td>YTERRIER-1</td>\n",
       "      <td>Yorkshire Terrier</td>\n",
       "      <td>2018</td>\n",
       "      <td>0</td>\n",
       "    </tr>\n",
       "    <tr>\n",
       "      <th>21879</th>\n",
       "      <td>ZX8000-1</td>\n",
       "      <td>ZX 8000 LEGO Sneaker</td>\n",
       "      <td>2020</td>\n",
       "      <td>0</td>\n",
       "    </tr>\n",
       "  </tbody>\n",
       "</table>\n",
       "<p>21880 rows × 4 columns</p>\n",
       "</div>"
      ],
      "text/plain": [
       "           set_num                             name  year  num_parts\n",
       "0            001-1                            Gears  1965         43\n",
       "1           0011-2                Town Mini-Figures  1979         12\n",
       "2           0011-3       Castle 2 for 1 Bonus Offer  1987          0\n",
       "3           0012-1               Space Mini-Figures  1979         12\n",
       "4           0013-1               Space Mini-Figures  1979         12\n",
       "...            ...                              ...   ...        ...\n",
       "21875      XWING-1              Mini X-Wing Fighter  2019         60\n",
       "21876      XWING-2                X-Wing Trench Run  2019         52\n",
       "21877  YODACHRON-1  Yoda Chronicles Promotional Set  2013        413\n",
       "21878   YTERRIER-1                Yorkshire Terrier  2018          0\n",
       "21879     ZX8000-1             ZX 8000 LEGO Sneaker  2020          0\n",
       "\n",
       "[21880 rows x 4 columns]"
      ]
     },
     "execution_count": 14,
     "metadata": {},
     "output_type": "execute_result"
    }
   ],
   "source": [
    "df1.drop(columns=['theme_id','img_url'], inplace=True)\n",
    "df1"
   ]
  },
  {
   "cell_type": "code",
   "execution_count": 15,
   "metadata": {},
   "outputs": [],
   "source": [
    "df1.to_csv(\"sets.csv\")"
   ]
  },
  {
   "cell_type": "code",
   "execution_count": 16,
   "metadata": {},
   "outputs": [
    {
     "data": {
      "text/plain": [
       "Index(['Unnamed: 0', 'set_num', 'set_year', 'top_5_similar_sets', 'set_name',\n",
       "       'set_img_url', 'theme_id', 'theme_name', 'num_parts', 'A0A5A9',\n",
       "       'FFFFFF', 'C91A09', '6C6E68', '237841', '05131D', '184632', 'AA7F2E',\n",
       "       'F5CD2F', '582A12', 'F2CD37', 'E4ADC8', 'AEEFEC', '635F52', 'F08F1C',\n",
       "       'FCFCFC', '0020A0', '84B68D', 'BBE90B', 'D9E4A7', '0055BF', '9CA3A8',\n",
       "       'F8F184', 'DF6695', 'E4CD9E', '0A3463', '720E0F', 'FF800D', '958A73',\n",
       "       '898788', '352100', '3F3691', 'A5A5CB', 'DBAC34', '3E3C39', 'A95500',\n",
       "       '923978', '4B9F4A', 'A5A9B4', 'ADC3C0', 'C870A0', 'AA7D55', '9BA19D',\n",
       "       '6D6E5C', 'F8BB3D', '9B9A5A', '36AEBF', 'AC78BA', '9FC3E9', 'E1D5ED',\n",
       "       '078BC9', 'FE8A18', 'FFF03A', 'DFEEA5', '008F9B', '5A93DB', 'A0BCAC',\n",
       "       'FF698F', 'D9D9D9', 'CFE2F7', 'D09168', 'E0E0E0', 'BBA53D', 'AA4D8E',\n",
       "       '1B2A34', 'F2F3F2', '583927', '764D3B', '6074A1', 'B46A00', '575857',\n",
       "       'C0F500', '68BCC5', 'F6D7B3', 'BDC6AD', 'D67572', '81007B', 'FA9C1C',\n",
       "       'FFA70B', 'AE7A59', '7DBFDD', 'EBD800', 'CE1D9B', '8320B7', 'CCA373',\n",
       "       '755945'],\n",
       "      dtype='object')"
      ]
     },
     "execution_count": 16,
     "metadata": {},
     "output_type": "execute_result"
    }
   ],
   "source": [
    "df2 = pd.read_csv(\"hexagon_data.csv\")\n",
    "df2.columns"
   ]
  }
 ],
 "metadata": {
  "kernelspec": {
   "display_name": "Python 3.9.6 64-bit",
   "language": "python",
   "name": "python3"
  },
  "language_info": {
   "codemirror_mode": {
    "name": "ipython",
    "version": 3
   },
   "file_extension": ".py",
   "mimetype": "text/x-python",
   "name": "python",
   "nbconvert_exporter": "python",
   "pygments_lexer": "ipython3",
   "version": "3.9.6"
  },
  "orig_nbformat": 4,
  "vscode": {
   "interpreter": {
    "hash": "31f2aee4e71d21fbe5cf8b01ff0e069b9275f58929596ceb00d14d90e3e16cd6"
   }
  }
 },
 "nbformat": 4,
 "nbformat_minor": 2
}
